{
 "cells": [
  {
   "cell_type": "code",
   "execution_count": 2,
   "metadata": {},
   "outputs": [],
   "source": [
    "%matplotlib inline"
   ]
  },
  {
   "cell_type": "code",
   "execution_count": 63,
   "metadata": {},
   "outputs": [],
   "source": [
    "from keras_utilities import *\n",
    "from keras_utilities.models.vgg16 import Vgg16\n",
    "from keras_utilities.models.vgg16bn import Vgg16BN\n",
    "from keras.models import Sequential\n",
    "from keras.layers import Dense, Conv2D\n",
    "from keras.preprocessing.image import ImageDataGenerator\n",
    "from keras.optimizers import Adam\n",
    "import bcolz\n",
    "import os\n",
    "import numpy as np\n",
    "import pandas as pd"
   ]
  },
  {
   "cell_type": "code",
   "execution_count": 74,
   "metadata": {},
   "outputs": [],
   "source": [
    "# Constants\n",
    "PROD = True\n",
    "\n",
    "if not PROD:\n",
    "    dataset = 'sample'\n",
    "else:\n",
    "    dataset = 'train'"
   ]
  },
  {
   "cell_type": "markdown",
   "metadata": {},
   "source": [
    "# Moving Data Around"
   ]
  },
  {
   "cell_type": "code",
   "execution_count": 5,
   "metadata": {},
   "outputs": [
    {
     "name": "stdout",
     "output_type": "stream",
     "text": [
      "/home/ubuntu/Fisheries\n"
     ]
    }
   ],
   "source": [
    "%cd ~/Fisheries/"
   ]
  },
  {
   "cell_type": "code",
   "execution_count": 6,
   "metadata": {},
   "outputs": [
    {
     "name": "stdout",
     "output_type": "stream",
     "text": [
      "analysis.ipynb                  \u001b[0m\u001b[01;34mtest_stg1\u001b[0m/     train.zip\n",
      "\u001b[01;34msample\u001b[0m/                         test_stg1.zip  \u001b[01;34mval\u001b[0m/\n",
      "sample_submission_stg1.csv.zip  test_stg2.7z\n",
      "sample_submission_stg2.csv.zip  \u001b[01;34mtrain\u001b[0m/\n"
     ]
    }
   ],
   "source": [
    "%ls"
   ]
  },
  {
   "cell_type": "code",
   "execution_count": 7,
   "metadata": {},
   "outputs": [
    {
     "name": "stdout",
     "output_type": "stream",
     "text": [
      "\u001b[0m\u001b[01;34mALB\u001b[0m/  \u001b[01;34mBET\u001b[0m/  \u001b[01;34mDOL\u001b[0m/  \u001b[01;34mLAG\u001b[0m/  \u001b[01;34mNoF\u001b[0m/  \u001b[01;34mOTHER\u001b[0m/  \u001b[01;34mSHARK\u001b[0m/  \u001b[01;34mYFT\u001b[0m/\n"
     ]
    }
   ],
   "source": [
    "%ls train/"
   ]
  },
  {
   "cell_type": "code",
   "execution_count": 8,
   "metadata": {},
   "outputs": [],
   "source": [
    "# ! rm -R /home/ubuntu/Fisheries/sample/"
   ]
  },
  {
   "cell_type": "code",
   "execution_count": 9,
   "metadata": {},
   "outputs": [],
   "source": [
    "# create_data_sample('train', 'sample')"
   ]
  },
  {
   "cell_type": "code",
   "execution_count": 10,
   "metadata": {},
   "outputs": [
    {
     "name": "stdout",
     "output_type": "stream",
     "text": [
      "\u001b[0m\u001b[01;34mALB\u001b[0m/  \u001b[01;34mBET\u001b[0m/  \u001b[01;34mDOL\u001b[0m/  \u001b[01;34mLAG\u001b[0m/  \u001b[01;34mNoF\u001b[0m/  \u001b[01;34mOTHER\u001b[0m/  \u001b[01;34mSHARK\u001b[0m/  \u001b[01;34mYFT\u001b[0m/\n"
     ]
    }
   ],
   "source": [
    "%ls train/"
   ]
  },
  {
   "cell_type": "code",
   "execution_count": 11,
   "metadata": {},
   "outputs": [
    {
     "name": "stdout",
     "output_type": "stream",
     "text": [
      "\u001b[0m\u001b[01;34mALB\u001b[0m/  \u001b[01;34mBET\u001b[0m/  \u001b[01;34mDOL\u001b[0m/  \u001b[01;34mLAG\u001b[0m/  \u001b[01;34mNoF\u001b[0m/  \u001b[01;34mOTHER\u001b[0m/  \u001b[01;34mSHARK\u001b[0m/  \u001b[01;34mYFT\u001b[0m/\n"
     ]
    }
   ],
   "source": [
    "%ls sample/"
   ]
  },
  {
   "cell_type": "code",
   "execution_count": 12,
   "metadata": {},
   "outputs": [
    {
     "name": "stdout",
     "output_type": "stream",
     "text": [
      "1372\n"
     ]
    }
   ],
   "source": [
    "! ls -l train/ALB/ | wc -l"
   ]
  },
  {
   "cell_type": "code",
   "execution_count": 13,
   "metadata": {},
   "outputs": [
    {
     "name": "stdout",
     "output_type": "stream",
     "text": [
      "427\n"
     ]
    }
   ],
   "source": [
    "! ls -l sample/ALB | wc -l "
   ]
  },
  {
   "cell_type": "markdown",
   "metadata": {},
   "source": [
    "We're good on counts, and seem to have successfully partitioned out 25% of the data to represent a training sample. Next, we have to work on coming up with a good validation set. Do the training set and validation sets come from different boats? If so, we might want to think about splitting out a few of the training boats to serve as validation boats.\n",
    "\n",
    "Maybe a new way to handle validation set creation is to allow two types of partitioning:\n",
    "\n",
    "1. A random percentage of the training data\n",
    "2. Some subset of the training data that meets a certain criteria (we could start with something simply based on the file's name)\n",
    "\n",
    "For cases where individual samples are totally iid we can use method 1, whereas if there is some relationship between examples (like some fish coming from the same boat, in this case) we can use method 2."
   ]
  },
  {
   "cell_type": "code",
   "execution_count": 14,
   "metadata": {},
   "outputs": [],
   "source": [
    "# TODO: a function for recursively creating a validation set from a training directory\n",
    "# for subdir in os.listdir('train'):\n",
    "#     train_path = 'train/' + subdir + '/'\n",
    "#     val_path = 'val' + '/' + subdir + '/'\n",
    "#     move_data_subset(train_path, val_path, subset_pct=.2, method='move')"
   ]
  },
  {
   "cell_type": "code",
   "execution_count": 15,
   "metadata": {},
   "outputs": [
    {
     "name": "stdout",
     "output_type": "stream",
     "text": [
      "348\n"
     ]
    }
   ],
   "source": [
    "! ls -l val/ALB | wc -l"
   ]
  },
  {
   "cell_type": "code",
   "execution_count": 16,
   "metadata": {},
   "outputs": [
    {
     "name": "stdout",
     "output_type": "stream",
     "text": [
      "1372\n"
     ]
    }
   ],
   "source": [
    "! ls -l train/ALB | wc -l"
   ]
  },
  {
   "cell_type": "markdown",
   "metadata": {},
   "source": [
    "# Extracting Data"
   ]
  },
  {
   "cell_type": "code",
   "execution_count": 81,
   "metadata": {},
   "outputs": [],
   "source": [
    "gen = ImageDataGenerator()"
   ]
  },
  {
   "cell_type": "code",
   "execution_count": 82,
   "metadata": {},
   "outputs": [
    {
     "name": "stdout",
     "output_type": "stream",
     "text": [
      "Found 2997 images belonging to 8 classes.\n"
     ]
    }
   ],
   "source": [
    "train_gen = gen.flow_from_directory(dataset, \n",
    "                                    target_size = (224,224), \n",
    "                                    batch_size = 32, \n",
    "                                    class_mode = 'categorical')"
   ]
  },
  {
   "cell_type": "code",
   "execution_count": 83,
   "metadata": {},
   "outputs": [
    {
     "name": "stdout",
     "output_type": "stream",
     "text": [
      "Found 784 images belonging to 8 classes.\n"
     ]
    }
   ],
   "source": [
    "val_gen = gen.flow_from_directory('val',\n",
    "                                  target_size = (224,224),\n",
    "                                  batch_size = 32,\n",
    "                                  class_mode = 'categorical')"
   ]
  },
  {
   "cell_type": "code",
   "execution_count": 84,
   "metadata": {},
   "outputs": [],
   "source": [
    "mdl = Vgg16()"
   ]
  },
  {
   "cell_type": "code",
   "execution_count": 85,
   "metadata": {},
   "outputs": [],
   "source": [
    "mdl.model.pop()\n",
    "for layer in mdl.model.layers: layer.trainable = False\n",
    "mdl.model.add(Dense(8, activation='softmax'))\n",
    "mdl.compile()"
   ]
  },
  {
   "cell_type": "code",
   "execution_count": 50,
   "metadata": {},
   "outputs": [
    {
     "name": "stdout",
     "output_type": "stream",
     "text": [
      "Epoch 1/1\n",
      "960/960 [==============================] - 965s - loss: 3.8568 - acc: 0.5437 - val_loss: 2.7484 - val_acc: 0.6480\n"
     ]
    },
    {
     "data": {
      "text/plain": [
       "<keras.callbacks.History at 0x7fb19b61e3d0>"
      ]
     },
     "execution_count": 50,
     "metadata": {},
     "output_type": "execute_result"
    }
   ],
   "source": [
    "mdl.model.fit_generator(train_gen, \n",
    "                        samples_per_epoch = train_gen.nb_sample, \n",
    "                        nb_epoch = 1, \n",
    "                        validation_data = val_gen, \n",
    "                        nb_val_samples=val_gen.nb_sample)"
   ]
  },
  {
   "cell_type": "markdown",
   "metadata": {},
   "source": [
    "# Pre-Computing Convolutional Layers"
   ]
  },
  {
   "cell_type": "markdown",
   "metadata": {},
   "source": [
    "This section is computationally intensive, so everything is commented out."
   ]
  },
  {
   "cell_type": "code",
   "execution_count": 94,
   "metadata": {},
   "outputs": [],
   "source": [
    "# mdl = Vgg16BN()"
   ]
  },
  {
   "cell_type": "code",
   "execution_count": 95,
   "metadata": {},
   "outputs": [],
   "source": [
    "# layer_types = map(lambda layer: type(layer), mdl.model.layers)"
   ]
  },
  {
   "cell_type": "code",
   "execution_count": 96,
   "metadata": {},
   "outputs": [],
   "source": [
    "# first_dense_index = layer_types.index(Dense)"
   ]
  },
  {
   "cell_type": "code",
   "execution_count": 97,
   "metadata": {},
   "outputs": [],
   "source": [
    "# new_layers = mdl.model.layers[:first_dense_index]"
   ]
  },
  {
   "cell_type": "code",
   "execution_count": 98,
   "metadata": {},
   "outputs": [],
   "source": [
    "# conv_out_mdl = Sequential(new_layers)"
   ]
  },
  {
   "cell_type": "code",
   "execution_count": 99,
   "metadata": {},
   "outputs": [],
   "source": [
    "# conv_out_data = conv_out_mdl.predict_generator(train_gen, train_gen.nb_sample)"
   ]
  },
  {
   "cell_type": "code",
   "execution_count": 100,
   "metadata": {},
   "outputs": [],
   "source": [
    "# conv_out_data.shape"
   ]
  },
  {
   "cell_type": "code",
   "execution_count": 101,
   "metadata": {},
   "outputs": [],
   "source": [
    "# bcolz.carray(conv_out_data, rootdir='data/train')"
   ]
  },
  {
   "cell_type": "code",
   "execution_count": 102,
   "metadata": {},
   "outputs": [],
   "source": [
    "# val_conv_out_data = conv_out_mdl.predict_generator(val_gen, val_gen.nb_sample)"
   ]
  },
  {
   "cell_type": "code",
   "execution_count": 103,
   "metadata": {},
   "outputs": [],
   "source": [
    "# bcolz.carray(val_conv_out_data, rootdir='data/val')"
   ]
  },
  {
   "cell_type": "code",
   "execution_count": 73,
   "metadata": {},
   "outputs": [],
   "source": [
    "# ! mv data/train data/sample"
   ]
  },
  {
   "cell_type": "code",
   "execution_count": 106,
   "metadata": {},
   "outputs": [],
   "source": [
    "conv_out_unflattened_layers = conv_out_mdl.layers[:-1]"
   ]
  },
  {
   "cell_type": "code",
   "execution_count": 107,
   "metadata": {},
   "outputs": [
    {
     "data": {
      "text/plain": [
       "[<keras.layers.core.Lambda at 0x7f57088abbd0>,\n",
       " <keras.layers.convolutional.ZeroPadding2D at 0x7f5708492210>,\n",
       " <keras.layers.convolutional.Convolution2D at 0x7f5708345ad0>,\n",
       " <keras.layers.convolutional.ZeroPadding2D at 0x7f57082d4dd0>,\n",
       " <keras.layers.convolutional.Convolution2D at 0x7f5708336290>,\n",
       " <keras.layers.pooling.MaxPooling2D at 0x7f5708492390>,\n",
       " <keras.layers.convolutional.ZeroPadding2D at 0x7f5708279a90>,\n",
       " <keras.layers.convolutional.Convolution2D at 0x7f57082f0110>,\n",
       " <keras.layers.convolutional.ZeroPadding2D at 0x7f5708290050>,\n",
       " <keras.layers.convolutional.Convolution2D at 0x7f5708281fd0>,\n",
       " <keras.layers.pooling.MaxPooling2D at 0x7f5708279a50>,\n",
       " <keras.layers.convolutional.ZeroPadding2D at 0x7f57082b5e50>,\n",
       " <keras.layers.convolutional.Convolution2D at 0x7f570828ba50>,\n",
       " <keras.layers.convolutional.ZeroPadding2D at 0x7f570824d250>,\n",
       " <keras.layers.convolutional.Convolution2D at 0x7f5708245210>,\n",
       " <keras.layers.convolutional.ZeroPadding2D at 0x7f570829bb10>,\n",
       " <keras.layers.convolutional.Convolution2D at 0x7f570825e0d0>,\n",
       " <keras.layers.pooling.MaxPooling2D at 0x7f57082b5e10>,\n",
       " <keras.layers.convolutional.ZeroPadding2D at 0x7f5708257cd0>,\n",
       " <keras.layers.convolutional.Convolution2D at 0x7f5708276610>,\n",
       " <keras.layers.convolutional.ZeroPadding2D at 0x7f5708206c10>,\n",
       " <keras.layers.convolutional.Convolution2D at 0x7f570821a290>,\n",
       " <keras.layers.convolutional.ZeroPadding2D at 0x7f57081bb210>,\n",
       " <keras.layers.convolutional.Convolution2D at 0x7f5708222310>,\n",
       " <keras.layers.pooling.MaxPooling2D at 0x7f5708257c10>,\n",
       " <keras.layers.convolutional.ZeroPadding2D at 0x7f57081dcd90>,\n",
       " <keras.layers.convolutional.Convolution2D at 0x7f57081d4510>,\n",
       " <keras.layers.convolutional.ZeroPadding2D at 0x7f57081f6110>,\n",
       " <keras.layers.convolutional.Convolution2D at 0x7f57081e58d0>,\n",
       " <keras.layers.convolutional.ZeroPadding2D at 0x7f570817d5d0>,\n",
       " <keras.layers.convolutional.Convolution2D at 0x7f57081f0bd0>]"
      ]
     },
     "execution_count": 107,
     "metadata": {},
     "output_type": "execute_result"
    }
   ],
   "source": [
    "conv_out_unflattened_layers"
   ]
  },
  {
   "cell_type": "code",
   "execution_count": 108,
   "metadata": {},
   "outputs": [],
   "source": [
    "conv_out_unflattened = Sequential(conv_out_unflattened_layers)"
   ]
  },
  {
   "cell_type": "code",
   "execution_count": 109,
   "metadata": {},
   "outputs": [],
   "source": [
    "conv_out_unflattened_trn = conv_out_unflattened.predict_generator(train_gen, train_gen.nb_sample)"
   ]
  },
  {
   "cell_type": "code",
   "execution_count": 112,
   "metadata": {},
   "outputs": [
    {
     "data": {
      "text/plain": [
       "(2997, 512, 14, 14)"
      ]
     },
     "execution_count": 112,
     "metadata": {},
     "output_type": "execute_result"
    }
   ],
   "source": [
    "conv_out_unflattened_trn.shape"
   ]
  },
  {
   "cell_type": "code",
   "execution_count": 113,
   "metadata": {},
   "outputs": [
    {
     "data": {
      "text/plain": [
       "carray((2997, 512, 14, 14), float32)\n",
       "  nbytes := 1.12 GB; cbytes := 247.62 MB; ratio: 4.63\n",
       "  cparams := cparams(clevel=5, shuffle=1, cname='lz4', quantize=0)\n",
       "  chunklen := 5; chunksize: 2007040; blocksize: 32768\n",
       "  rootdir := 'data/train_unflattened'\n",
       "  mode    := 'a'\n",
       "[[[[  0.           0.           0.         ...,  10.98112297  17.46021652\n",
       "     10.90853405]\n",
       "   [  0.           0.           0.         ...,   7.96724606  17.38532066\n",
       "      5.55078697]\n",
       "   [  0.           0.           0.         ...,   0.           2.72810388\n",
       "      0.        ]\n",
       "   ..., \n",
       "   [  0.           0.          35.58968735 ...,   0.           0.           0.        ]\n",
       "   [  0.           0.          31.45189857 ...,   0.           0.\n",
       "      1.54978704]\n",
       "   [  0.           0.           2.15396333 ...,   0.           0.\n",
       "      7.28270435]]\n",
       "\n",
       "  [[  0.           0.           0.         ...,   0.           0.           0.        ]\n",
       "   [  0.           0.           0.         ...,   0.           0.           0.        ]\n",
       "   [  0.           0.           0.         ...,   0.           0.           0.        ]\n",
       "   ..., \n",
       "   [  0.           0.           0.         ...,   0.           0.           0.        ]\n",
       "   [  0.           0.           0.         ...,   0.           0.           0.        ]\n",
       "   [  0.           0.           0.         ...,   0.           0.           0.        ]]\n",
       "\n",
       "  [[  0.           0.           0.         ...,   0.           0.           0.        ]\n",
       "   [  0.           0.           0.         ...,   0.           0.           0.        ]\n",
       "   [  0.           0.           0.         ...,   0.           0.\n",
       "      8.20819378]\n",
       "   ..., \n",
       "   [  0.           0.           0.         ...,   0.           0.           0.        ]\n",
       "   [  0.           0.           0.         ...,   0.           0.           0.        ]\n",
       "   [  0.           0.           0.         ...,   0.           0.           0.        ]]\n",
       "\n",
       "  ..., \n",
       "  [[  0.           0.           0.         ...,   0.           0.           0.        ]\n",
       "   [  0.           0.           0.         ...,   0.           0.           0.        ]\n",
       "   [  0.           0.           0.         ...,   0.           0.           0.        ]\n",
       "   ..., \n",
       "   [  0.           0.           0.         ...,   0.           0.           0.        ]\n",
       "   [  0.           0.           0.         ...,   0.           0.           0.        ]\n",
       "   [  0.           0.           0.         ...,   0.           0.           0.        ]]\n",
       "\n",
       "  [[  0.           0.           0.         ...,   0.           0.\n",
       "      3.89011955]\n",
       "   [  0.           0.           0.         ...,   0.           0.\n",
       "      5.29348421]\n",
       "   [  0.           0.           0.         ...,  21.06029129   8.90414906\n",
       "     19.5691433 ]\n",
       "   ..., \n",
       "   [  0.           0.           0.         ...,   0.           0.           0.        ]\n",
       "   [  0.           0.           0.         ...,   0.           0.           0.        ]\n",
       "   [  9.75240517  10.11396599  15.42445183 ...,   0.           0.\n",
       "      4.1793375 ]]\n",
       "\n",
       "  [[  0.           0.           0.         ...,   0.           0.           0.        ]\n",
       "   [  0.           0.           0.         ...,   0.           0.           0.        ]\n",
       "   [  0.           0.           0.         ...,   0.           0.           0.        ]\n",
       "   ..., \n",
       "   [  0.           0.           0.         ...,   0.           0.           0.        ]\n",
       "   [  0.           0.           0.         ...,   0.           0.           0.        ]\n",
       "   [  0.           0.           0.         ...,   0.           0.           0.        ]]]\n",
       "\n",
       "\n",
       " [[[  0.           0.           0.         ...,   0.           0.           0.        ]\n",
       "   [  0.           0.           0.         ...,   9.39629936   2.76710963\n",
       "      0.        ]\n",
       "   [  0.           0.           0.         ...,  18.90789413   7.57193661\n",
       "      0.9259007 ]\n",
       "   ..., \n",
       "   [  0.           0.           0.         ...,   0.           0.           0.        ]\n",
       "   [  0.           0.80832124   0.         ...,   0.           0.           0.        ]\n",
       "   [  0.84641993   0.           0.         ...,   0.           0.           0.        ]]\n",
       "\n",
       "  [[  0.           0.           0.         ...,   0.           0.           0.        ]\n",
       "   [  0.           0.           0.         ...,   0.           0.           0.        ]\n",
       "   [  0.           0.           0.         ...,   0.           0.           0.        ]\n",
       "   ..., \n",
       "   [  0.           0.           0.         ...,   0.           0.           0.        ]\n",
       "   [  0.           0.           0.         ...,   0.           0.           0.        ]\n",
       "   [  0.           0.           0.         ...,   0.           0.           0.        ]]\n",
       "\n",
       "  [[  0.           0.           0.         ...,   0.           0.           0.        ]\n",
       "   [  0.           0.           0.         ...,   0.           0.           0.        ]\n",
       "   [  0.           0.           0.         ...,   0.           0.           0.        ]\n",
       "   ..., \n",
       "   [  0.           0.           0.         ...,   0.           0.           0.        ]\n",
       "   [  0.           0.           0.         ...,   0.           0.           0.        ]\n",
       "   [  0.           0.           0.         ...,   0.           0.           0.        ]]\n",
       "\n",
       "  ..., \n",
       "  [[  0.           0.           0.         ...,   0.           0.           0.        ]\n",
       "   [  0.           0.           0.         ...,   0.           0.           0.        ]\n",
       "   [  0.           0.           0.         ...,   0.           0.           0.        ]\n",
       "   ..., \n",
       "   [  0.           0.           0.         ...,   0.           0.           0.        ]\n",
       "   [  0.           0.           0.         ...,   0.           0.           0.        ]\n",
       "   [  0.           0.           0.         ...,   0.           0.           0.        ]]\n",
       "\n",
       "  [[  0.           0.           0.         ...,   0.           0.\n",
       "      1.04228973]\n",
       "   [  0.           0.           0.         ...,   0.           0.\n",
       "      2.06700468]\n",
       "   [  0.           0.           0.         ...,   0.           0.\n",
       "      4.88185787]\n",
       "   ..., \n",
       "   [  2.94699717   0.           0.         ...,   0.           0.\n",
       "     19.94920158]\n",
       "   [  0.           0.           0.         ...,   0.           0.           0.        ]\n",
       "   [  3.48722196   0.          11.92469978 ...,   0.           0.\n",
       "      4.28071737]]\n",
       "\n",
       "  [[  0.           0.           0.         ...,   0.           0.           0.        ]\n",
       "   [  0.           0.           0.         ...,   0.           0.           0.        ]\n",
       "   [  0.           0.           0.         ...,   0.           0.           0.        ]\n",
       "   ..., \n",
       "   [  0.           0.           0.         ...,   0.           0.           0.        ]\n",
       "   [  0.           0.           0.         ...,   0.           0.           0.        ]\n",
       "   [  0.           0.           0.         ...,   0.           0.           0.        ]]]\n",
       "\n",
       "\n",
       " [[[  0.           0.           0.         ...,   0.           0.           0.        ]\n",
       "   [  0.           0.           0.         ...,   0.           0.           0.        ]\n",
       "   [  0.           0.           0.         ...,   0.           0.           0.        ]\n",
       "   ..., \n",
       "   [  0.           0.           0.         ...,   0.           0.           0.        ]\n",
       "   [  0.           0.           0.         ...,   0.           0.           0.        ]\n",
       "   [  0.           0.           0.         ...,   0.           0.           0.        ]]\n",
       "\n",
       "  [[  0.           0.           0.         ...,   0.           0.           0.        ]\n",
       "   [  0.           0.           0.         ...,   0.           0.           0.        ]\n",
       "   [  0.           0.           0.         ...,   0.           0.           0.        ]\n",
       "   ..., \n",
       "   [  0.           0.           0.         ...,   0.           0.           0.        ]\n",
       "   [  0.           0.           0.         ...,   0.           0.           0.        ]\n",
       "   [  0.           0.           0.         ...,  12.48336315   0.           0.        ]]\n",
       "\n",
       "  [[  0.           0.           0.         ...,   0.           0.           0.        ]\n",
       "   [  0.           0.           0.         ...,   0.           0.           0.        ]\n",
       "   [  0.           0.           0.         ...,   0.           0.           0.        ]\n",
       "   ..., \n",
       "   [  0.           0.           0.         ...,   0.           0.           0.        ]\n",
       "   [  0.           0.           0.         ...,   0.           0.           0.        ]\n",
       "   [  0.           0.           0.         ...,   0.           0.           0.        ]]\n",
       "\n",
       "  ..., \n",
       "  [[  0.           0.           0.         ...,   7.87976408   0.           0.        ]\n",
       "   [  0.           0.           0.         ...,  24.55217361   0.           0.        ]\n",
       "   [  0.           0.           0.         ...,  11.91972637   0.           0.        ]\n",
       "   ..., \n",
       "   [  0.           0.           0.         ...,   0.           0.           0.        ]\n",
       "   [  0.           0.           0.         ...,   0.           0.           0.        ]\n",
       "   [  0.           0.           0.         ...,   0.           0.           0.        ]]\n",
       "\n",
       "  [[  0.           0.           0.         ...,   0.           0.\n",
       "      9.92481518]\n",
       "   [  0.           0.           0.         ...,   0.           0.           0.        ]\n",
       "   [  0.           0.           0.         ...,   0.           0.           0.        ]\n",
       "   ..., \n",
       "   [ 19.68988419   0.           0.         ...,   0.           0.           0.        ]\n",
       "   [  0.           0.           0.         ...,   0.           0.           0.        ]\n",
       "   [  1.60604835   0.           5.19687891 ...,   0.           0.           0.        ]]\n",
       "\n",
       "  [[  0.           0.           0.         ...,   0.           0.           0.        ]\n",
       "   [  0.           0.           0.         ...,   0.           0.           0.        ]\n",
       "   [  0.           0.           0.         ...,   0.           0.           0.        ]\n",
       "   ..., \n",
       "   [  0.           0.           0.         ...,   0.           0.           0.        ]\n",
       "   [  0.           0.           0.         ...,   0.           0.           0.        ]\n",
       "   [  0.           0.           0.         ...,   0.           0.           0.        ]]]\n",
       "\n",
       "\n",
       " ..., \n",
       " [[[  0.           0.           0.         ...,   0.           0.           0.        ]\n",
       "   [  0.           0.           0.         ...,   0.           0.           0.        ]\n",
       "   [  0.           0.          13.73255825 ...,   0.           0.           0.        ]\n",
       "   ..., \n",
       "   [  0.           0.           0.         ...,   0.           0.           0.        ]\n",
       "   [  0.           0.           0.         ...,   0.           0.           0.        ]\n",
       "   [  0.           0.           0.         ...,   0.           0.           0.        ]]\n",
       "\n",
       "  [[  0.           0.           0.         ...,   0.           0.           0.        ]\n",
       "   [  0.           0.           0.         ...,   0.           0.           0.        ]\n",
       "   [  0.           0.           0.         ...,   0.           0.           0.        ]\n",
       "   ..., \n",
       "   [  0.           0.           0.         ...,   0.           0.           0.        ]\n",
       "   [  0.           0.           0.         ...,   0.           0.           0.        ]\n",
       "   [  0.           0.           0.         ...,   0.           0.           0.        ]]\n",
       "\n",
       "  [[  0.           0.           0.         ...,   0.           0.           0.        ]\n",
       "   [  0.           0.           0.         ...,   0.           0.           0.        ]\n",
       "   [  0.           0.           0.         ...,   0.           0.           0.        ]\n",
       "   ..., \n",
       "   [  0.           0.           0.         ...,   0.           0.           0.        ]\n",
       "   [  0.           0.           0.         ...,   0.           0.           0.        ]\n",
       "   [  0.           0.           0.         ...,   0.           0.           0.        ]]\n",
       "\n",
       "  ..., \n",
       "  [[  0.           0.           0.         ...,   0.           0.           0.        ]\n",
       "   [  0.           0.           0.         ...,   0.           0.           0.        ]\n",
       "   [  0.           0.           0.         ...,   0.           0.           0.        ]\n",
       "   ..., \n",
       "   [  0.           0.           0.         ...,   0.           0.           0.        ]\n",
       "   [  0.           0.           0.         ...,   0.           0.           0.        ]\n",
       "   [  0.           0.           0.         ...,   0.           0.           0.        ]]\n",
       "\n",
       "  [[  0.           0.           0.         ...,   4.54093361   0.           0.        ]\n",
       "   [  0.           0.           0.         ...,   0.           0.           0.        ]\n",
       "   [  0.           0.           0.         ...,   0.           0.\n",
       "      6.75585318]\n",
       "   ..., \n",
       "   [  0.           0.           9.59120941 ...,   0.           0.\n",
       "      2.54879785]\n",
       "   [  0.           0.           0.         ...,   0.           0.           0.        ]\n",
       "   [  2.52722311   4.48937559  13.21865463 ...,   0.           0.\n",
       "     10.75129986]]\n",
       "\n",
       "  [[ 27.83403015  41.00960541  27.4797287  ...,   0.           0.           0.        ]\n",
       "   [ 11.58799934  10.48213959   3.13862062 ...,   0.           0.           0.        ]\n",
       "   [ 15.36521339   5.67633486   0.         ...,   0.           0.           0.        ]\n",
       "   ..., \n",
       "   [  0.           0.           0.         ...,   0.           0.           0.        ]\n",
       "   [  0.           0.           0.         ...,   0.           0.           0.        ]\n",
       "   [  6.62691927   0.55660355   0.         ...,   0.           0.           0.        ]]]\n",
       "\n",
       "\n",
       " [[[  0.           0.           0.         ...,   0.           0.           0.        ]\n",
       "   [  0.           0.           0.         ...,   0.           0.           0.        ]\n",
       "   [  0.           0.           0.         ...,   0.           0.           0.        ]\n",
       "   ..., \n",
       "   [  7.30143452  25.74718094  26.91437912 ...,   0.           0.           0.        ]\n",
       "   [  0.          14.43029022  20.15863037 ...,   0.           0.           0.        ]\n",
       "   [  0.           0.           0.         ...,   0.           0.           0.        ]]\n",
       "\n",
       "  [[  0.           0.           0.         ...,   0.           0.           0.        ]\n",
       "   [  0.           0.           0.         ...,   0.           0.           0.        ]\n",
       "   [  0.           0.           0.         ...,   0.           0.           0.        ]\n",
       "   ..., \n",
       "   [  0.           0.           0.         ...,   0.           0.           0.        ]\n",
       "   [  0.           0.           0.         ...,   0.           0.           0.        ]\n",
       "   [  0.           0.           0.         ...,   0.           0.           0.        ]]\n",
       "\n",
       "  [[  0.           0.           0.         ...,   0.           0.           0.        ]\n",
       "   [  0.           0.           0.         ...,   0.           0.           0.        ]\n",
       "   [  0.           0.           0.         ...,   0.           0.           0.        ]\n",
       "   ..., \n",
       "   [  0.           0.           0.         ...,   0.           0.           0.        ]\n",
       "   [  0.           0.           0.         ...,   0.           0.           0.        ]\n",
       "   [  0.           0.           0.         ...,   0.           0.           0.        ]]\n",
       "\n",
       "  ..., \n",
       "  [[  0.           0.           0.         ...,   0.           0.           0.        ]\n",
       "   [  0.           0.           0.         ...,   0.           0.           0.        ]\n",
       "   [  0.           0.           0.         ...,   0.           0.           0.        ]\n",
       "   ..., \n",
       "   [  0.           0.           0.         ...,   0.           0.           0.        ]\n",
       "   [  0.           0.           0.         ...,   0.           0.           0.        ]\n",
       "   [  0.           0.           0.         ...,   0.           0.           0.        ]]\n",
       "\n",
       "  [[  0.           0.           0.         ...,   8.61845684   9.93543243\n",
       "     13.68976593]\n",
       "   [  0.           0.           0.         ...,   0.           0.\n",
       "      7.57889891]\n",
       "   [  0.           0.           0.         ...,   0.59587687   0.\n",
       "      8.7879858 ]\n",
       "   ..., \n",
       "   [  0.           0.           0.         ...,   0.           0.\n",
       "      7.25315762]\n",
       "   [  0.           0.           0.         ...,   0.           0.\n",
       "      1.97983551]\n",
       "   [  0.           0.           0.         ...,   0.           0.\n",
       "      3.3676517 ]]\n",
       "\n",
       "  [[  0.           0.           0.         ...,   0.           0.           0.        ]\n",
       "   [  0.           0.           0.         ...,   0.           0.           0.        ]\n",
       "   [  0.           0.           0.         ...,   0.           0.           0.        ]\n",
       "   ..., \n",
       "   [  0.           0.           0.         ...,   0.           0.           0.        ]\n",
       "   [  0.           0.           0.         ...,   0.           0.           0.        ]\n",
       "   [  0.           0.           0.         ...,   0.           0.           0.        ]]]\n",
       "\n",
       "\n",
       " [[[  0.           0.           0.         ...,   0.           0.           0.        ]\n",
       "   [  0.           0.           0.         ...,   0.           0.           0.        ]\n",
       "   [  0.           0.           0.         ...,   0.           0.           0.        ]\n",
       "   ..., \n",
       "   [  9.26850891  15.69302177  37.05524445 ...,   0.           0.           0.        ]\n",
       "   [  0.           0.          32.08343887 ...,   0.           0.           0.        ]\n",
       "   [  0.           0.           0.         ...,   0.           0.           0.        ]]\n",
       "\n",
       "  [[  0.           0.           0.         ...,   0.           0.           0.        ]\n",
       "   [  0.           0.           0.         ...,   0.           0.           0.        ]\n",
       "   [  0.           0.           0.         ...,   0.           0.           0.        ]\n",
       "   ..., \n",
       "   [  0.           0.           0.         ...,   0.           0.           0.        ]\n",
       "   [  0.           0.           0.         ...,   0.           0.           0.        ]\n",
       "   [  0.           0.           0.         ...,   0.           0.           0.        ]]\n",
       "\n",
       "  [[  0.           0.           0.         ...,   0.           0.           0.        ]\n",
       "   [  0.           0.           0.         ...,   0.           0.           0.        ]\n",
       "   [  0.           0.           0.         ...,   0.           0.           0.        ]\n",
       "   ..., \n",
       "   [  0.           0.           0.         ...,   0.           0.           0.        ]\n",
       "   [  0.           0.           0.         ...,   0.           0.           0.        ]\n",
       "   [  0.           0.           0.         ...,   0.           0.           0.        ]]\n",
       "\n",
       "  ..., \n",
       "  [[  0.           0.           0.         ...,   0.           0.           0.        ]\n",
       "   [  0.           0.           0.         ...,   0.           0.           0.        ]\n",
       "   [  0.           0.           0.         ...,   0.           0.           0.        ]\n",
       "   ..., \n",
       "   [  0.           0.           0.         ...,   0.           0.           0.        ]\n",
       "   [  0.           0.           0.         ...,   0.           0.           0.        ]\n",
       "   [  0.           0.           0.         ...,   0.           0.           0.        ]]\n",
       "\n",
       "  [[  0.           0.           0.         ...,   1.27070069   3.02098012\n",
       "     15.0456295 ]\n",
       "   [  0.           0.           0.         ...,   0.           0.\n",
       "     18.21128082]\n",
       "   [  0.           0.           0.         ...,   0.           0.\n",
       "     24.57454491]\n",
       "   ..., \n",
       "   [  0.           0.           0.         ...,   0.           0.           0.        ]\n",
       "   [  0.           0.           0.         ...,   0.           0.           0.        ]\n",
       "   [  9.8851862    2.76442933   6.76731253 ...,   0.           0.           0.        ]]\n",
       "\n",
       "  [[  0.           0.           0.         ...,   0.           0.           0.        ]\n",
       "   [  0.           0.           0.         ...,   0.           0.           0.        ]\n",
       "   [  0.           0.           0.         ...,  63.28583145  64.42556763\n",
       "     44.11983109]\n",
       "   ..., \n",
       "   [  0.           0.           0.         ...,   0.           0.           0.        ]\n",
       "   [  0.           0.           0.         ...,   0.           0.           0.        ]\n",
       "   [  0.           0.           0.         ...,   0.           0.           0.        ]]]]"
      ]
     },
     "execution_count": 113,
     "metadata": {},
     "output_type": "execute_result"
    }
   ],
   "source": [
    "bcolz.carray(conv_out_unflattened_trn, rootdir='data/train_unflattened')"
   ]
  },
  {
   "cell_type": "code",
   "execution_count": 114,
   "metadata": {},
   "outputs": [],
   "source": [
    "conv_out_unflattened_val = conv_out_unflattened.predict_generator(val_gen, val_gen.nb_sample)"
   ]
  },
  {
   "cell_type": "code",
   "execution_count": 115,
   "metadata": {},
   "outputs": [
    {
     "data": {
      "text/plain": [
       "(784, 512, 14, 14)"
      ]
     },
     "execution_count": 115,
     "metadata": {},
     "output_type": "execute_result"
    }
   ],
   "source": [
    "conv_out_unflattened_val.shape"
   ]
  },
  {
   "cell_type": "code",
   "execution_count": 116,
   "metadata": {},
   "outputs": [
    {
     "data": {
      "text/plain": [
       "carray((784, 512, 14, 14), float32)\n",
       "  nbytes := 300.12 MB; cbytes := 65.10 MB; ratio: 4.61\n",
       "  cparams := cparams(clevel=5, shuffle=1, cname='lz4', quantize=0)\n",
       "  chunklen := 2; chunksize: 802816; blocksize: 32768\n",
       "  rootdir := 'data/val_unflattened'\n",
       "  mode    := 'a'\n",
       "[[[[  0.           0.           0.         ...,   0.           0.           0.        ]\n",
       "   [  0.           0.           0.         ...,   0.           0.           0.        ]\n",
       "   [  0.           0.           0.         ...,   0.           0.           0.        ]\n",
       "   ..., \n",
       "   [ 16.43975639  52.57017517  63.05947113 ...,   0.           0.           0.        ]\n",
       "   [ 13.01502037  39.43035507  50.86906052 ...,   0.           0.           0.        ]\n",
       "   [  3.04450369  10.44467449  18.17323112 ...,   0.           0.           0.        ]]\n",
       "\n",
       "  [[  8.06585217   0.           0.         ...,   0.           0.           0.        ]\n",
       "   [  0.           0.           0.         ...,   0.           0.           0.        ]\n",
       "   [  0.           0.           0.         ...,   0.           0.           0.        ]\n",
       "   ..., \n",
       "   [  0.           0.           0.         ...,   0.           0.           0.        ]\n",
       "   [ 11.67239761   0.           0.         ...,   0.           0.           0.        ]\n",
       "   [ 21.12731552   0.           0.         ...,   0.           0.           0.        ]]\n",
       "\n",
       "  [[  0.           0.           0.         ...,   0.           0.           0.        ]\n",
       "   [  0.           0.           0.         ...,   0.           0.           0.        ]\n",
       "   [  0.           0.           0.         ...,   0.           0.           0.        ]\n",
       "   ..., \n",
       "   [  0.           0.           0.         ...,   0.           0.           0.        ]\n",
       "   [  0.           0.           0.         ...,   0.           0.           0.        ]\n",
       "   [  0.           0.           0.         ...,   0.           0.           0.        ]]\n",
       "\n",
       "  ..., \n",
       "  [[  0.           0.           0.         ...,   0.           0.           0.        ]\n",
       "   [  0.           0.           0.         ...,   0.           0.           0.        ]\n",
       "   [  0.           0.           0.         ...,   0.           0.           0.        ]\n",
       "   ..., \n",
       "   [  0.           0.           0.         ...,   0.           0.           0.        ]\n",
       "   [  0.           0.           0.         ...,   0.           0.           0.        ]\n",
       "   [  0.           0.           0.         ...,   0.           0.           0.        ]]\n",
       "\n",
       "  [[  0.           0.           1.61214149 ...,   1.62369084  17.92849159\n",
       "     33.5198555 ]\n",
       "   [  0.           0.           0.         ...,   0.           2.73215437\n",
       "     48.30508804]\n",
       "   [  0.           0.           0.80016679 ...,   0.          13.76188278\n",
       "     48.00714874]\n",
       "   ..., \n",
       "   [  0.           0.           0.         ...,   0.           3.57475972\n",
       "     17.50580597]\n",
       "   [  0.           0.           0.         ...,   0.           0.\n",
       "      7.96007109]\n",
       "   [ 41.87360764  12.39218998  16.60565758 ...,   0.           0.\n",
       "     10.24397182]]\n",
       "\n",
       "  [[ 31.96216202  27.42149162  12.52784824 ...,   0.           0.           0.        ]\n",
       "   [ 31.62623596  30.33508873   3.05834246 ...,   0.           0.           0.        ]\n",
       "   [ 44.12788773  53.34775162  25.38437271 ...,   0.           0.           0.        ]\n",
       "   ..., \n",
       "   [  0.           0.           0.         ...,   0.           0.           0.        ]\n",
       "   [  0.           0.           0.         ...,   0.           0.           0.        ]\n",
       "   [  0.           0.           0.         ...,   0.           0.           0.        ]]]\n",
       "\n",
       "\n",
       " [[[  0.           0.           0.         ...,   0.           0.           0.        ]\n",
       "   [  0.           0.           0.         ...,   0.           0.           0.        ]\n",
       "   [  0.           0.           0.         ...,   0.           0.           0.        ]\n",
       "   ..., \n",
       "   [  0.           0.          11.4209013  ...,   0.           0.           0.        ]\n",
       "   [  0.           0.           0.         ...,   0.           0.           0.        ]\n",
       "   [  0.           0.           0.         ...,   0.           0.           0.        ]]\n",
       "\n",
       "  [[  0.           0.           0.         ...,   0.           0.           0.        ]\n",
       "   [  0.           0.           0.         ...,   0.           0.           0.        ]\n",
       "   [  0.           0.           0.         ...,   0.           0.           0.        ]\n",
       "   ..., \n",
       "   [  0.           0.           0.         ...,   0.           0.           0.        ]\n",
       "   [  0.           0.           0.         ...,   0.           0.           0.        ]\n",
       "   [  0.           0.           0.         ...,   0.           0.           0.        ]]\n",
       "\n",
       "  [[  0.           0.           0.         ...,   0.           0.           0.        ]\n",
       "   [  0.           0.           0.         ...,   0.           0.           0.        ]\n",
       "   [  0.           0.           0.         ...,   0.           0.           0.        ]\n",
       "   ..., \n",
       "   [  0.           0.           0.         ...,   0.           0.           0.        ]\n",
       "   [  0.           0.           0.         ...,   0.           0.           0.        ]\n",
       "   [  0.           0.           0.         ...,   0.           0.           0.        ]]\n",
       "\n",
       "  ..., \n",
       "  [[  0.           0.           0.         ...,   0.           0.           0.        ]\n",
       "   [  0.           0.           0.         ...,   0.           0.           0.        ]\n",
       "   [  0.           0.           0.         ...,   0.           0.           0.        ]\n",
       "   ..., \n",
       "   [  0.           0.          17.09905624 ...,   0.           0.           0.        ]\n",
       "   [  0.           0.           0.         ...,   0.           0.           0.        ]\n",
       "   [  0.           0.           0.         ...,   0.           0.           0.        ]]\n",
       "\n",
       "  [[  0.           0.           0.         ...,   0.           0.           0.        ]\n",
       "   [  0.           0.           0.         ...,   0.           0.           0.        ]\n",
       "   [  0.           0.           0.         ...,   0.           0.           0.        ]\n",
       "   ..., \n",
       "   [ 19.00144768   0.           0.         ...,   0.           0.\n",
       "     32.1149292 ]\n",
       "   [  0.           0.           0.         ...,   0.           0.\n",
       "      5.2975111 ]\n",
       "   [  5.48450613   0.           0.22872514 ...,   0.           0.           0.        ]]\n",
       "\n",
       "  [[  0.           0.           0.         ...,   0.           0.           0.        ]\n",
       "   [  0.           0.           0.         ...,   0.25688568   0.\n",
       "      7.49583435]\n",
       "   [  0.           0.           0.         ...,  29.72914505  31.41115952\n",
       "     34.30797195]\n",
       "   ..., \n",
       "   [  0.           0.           0.         ...,   0.           0.           0.        ]\n",
       "   [  0.           0.           0.         ...,   0.           0.           0.        ]\n",
       "   [  0.           0.           0.         ...,   0.           0.           0.        ]]]\n",
       "\n",
       "\n",
       " [[[  0.           0.           0.         ...,   0.           0.           0.        ]\n",
       "   [  0.           0.           0.         ...,   4.84200191   7.79329872\n",
       "      0.        ]\n",
       "   [  0.           0.           0.         ...,   0.           0.           0.        ]\n",
       "   ..., \n",
       "   [  0.           0.           0.         ...,   0.           0.           0.        ]\n",
       "   [ 14.95509052  13.1677227    9.33948898 ...,   0.           0.           0.        ]\n",
       "   [ 21.0317688   11.79493809   3.74943733 ...,   0.           0.           0.        ]]\n",
       "\n",
       "  [[  0.           0.           0.         ...,   0.           0.           0.        ]\n",
       "   [  0.           0.           0.         ...,   0.           0.           0.        ]\n",
       "   [  0.           0.           0.         ...,   0.           0.           0.        ]\n",
       "   ..., \n",
       "   [  0.           0.           0.         ...,   0.           0.           0.        ]\n",
       "   [  0.           0.           1.41825652 ...,   0.           0.           0.        ]\n",
       "   [  0.           0.           0.         ...,   0.           0.           0.        ]]\n",
       "\n",
       "  [[  0.           0.           0.         ...,   0.           0.           0.        ]\n",
       "   [  0.           0.           0.         ...,   0.           0.           0.        ]\n",
       "   [  0.           0.           0.         ...,   0.           0.           0.        ]\n",
       "   ..., \n",
       "   [  0.           0.           0.         ...,   0.           0.           0.        ]\n",
       "   [  0.           0.           0.         ...,   0.           0.           0.        ]\n",
       "   [  0.           0.           0.         ...,   0.           0.           0.        ]]\n",
       "\n",
       "  ..., \n",
       "  [[  0.           0.           0.         ...,   0.           0.           0.        ]\n",
       "   [  0.           0.           0.         ...,   0.           0.           0.        ]\n",
       "   [  0.           0.           0.         ...,   0.           0.           0.        ]\n",
       "   ..., \n",
       "   [  0.           0.           0.         ...,   0.           0.           0.        ]\n",
       "   [  0.           0.           0.         ...,   0.           0.           0.        ]\n",
       "   [  0.           0.           0.         ...,   0.           0.           0.        ]]\n",
       "\n",
       "  [[  0.           0.           0.         ...,   0.           1.09560513\n",
       "      2.7828989 ]\n",
       "   [  0.           0.           0.         ...,   0.           0.           0.        ]\n",
       "   [  0.           0.           0.         ...,   0.           0.           0.        ]\n",
       "   ..., \n",
       "   [ 43.53448868   5.75335455   4.67397833 ...,   0.           0.           0.        ]\n",
       "   [  6.7558217    0.           0.         ...,   0.           0.           0.        ]\n",
       "   [ 36.81814194  37.60522842  36.42160797 ...,   0.           0.           0.        ]]\n",
       "\n",
       "  [[  0.           0.           0.         ...,   0.           0.           0.        ]\n",
       "   [  0.           0.           0.         ...,   0.           0.           0.        ]\n",
       "   [  0.           0.           0.         ...,   0.           0.           0.        ]\n",
       "   ..., \n",
       "   [  0.           0.           0.         ...,   0.           0.           0.        ]\n",
       "   [  0.           0.           0.         ...,   0.           0.           0.        ]\n",
       "   [  9.01259995   0.           0.         ...,   0.           0.           0.        ]]]\n",
       "\n",
       "\n",
       " ..., \n",
       " [[[  0.           0.           0.         ...,   0.           0.           0.        ]\n",
       "   [  0.           0.           0.         ...,   0.           0.           0.        ]\n",
       "   [  0.           0.           0.         ...,   0.           0.           0.        ]\n",
       "   ..., \n",
       "   [  0.           0.75958467   0.         ...,   0.           0.           0.        ]\n",
       "   [  0.           0.           0.         ...,   0.           0.           0.        ]\n",
       "   [  0.           0.           0.         ...,   0.           0.           0.        ]]\n",
       "\n",
       "  [[  0.           0.           0.         ...,   0.           0.           0.        ]\n",
       "   [  0.           0.           0.         ...,   0.           0.           0.        ]\n",
       "   [  0.           0.           0.         ...,   0.           0.           0.        ]\n",
       "   ..., \n",
       "   [  6.37666559   0.           0.         ...,   0.           0.           0.        ]\n",
       "   [ 42.69808197  48.02146149  38.35481262 ...,   0.           0.           0.        ]\n",
       "   [ 26.06196785  32.8987999   24.27863312 ...,   0.           0.           0.        ]]\n",
       "\n",
       "  [[  0.           0.           0.         ...,   0.           0.           0.        ]\n",
       "   [  0.           0.           0.         ...,   0.           0.           0.        ]\n",
       "   [  0.           0.           0.         ...,   0.           0.           0.        ]\n",
       "   ..., \n",
       "   [  0.           0.           0.         ...,   0.           0.           0.        ]\n",
       "   [  0.           0.           0.         ...,   0.           0.           0.        ]\n",
       "   [  0.           0.           0.         ...,   0.           0.           0.        ]]\n",
       "\n",
       "  ..., \n",
       "  [[  0.           0.           0.         ...,   0.           0.           0.        ]\n",
       "   [  0.           0.           0.         ...,   0.           0.           0.        ]\n",
       "   [  0.           0.           0.         ...,   0.           0.           0.        ]\n",
       "   ..., \n",
       "   [  0.           0.           0.         ...,   0.           0.           0.        ]\n",
       "   [  0.           0.           0.         ...,   0.           0.           0.        ]\n",
       "   [  0.           0.           0.         ...,   0.           0.           0.        ]]\n",
       "\n",
       "  [[  0.           0.           0.         ...,  29.40061569  22.56476974\n",
       "     28.23193359]\n",
       "   [  0.           0.           0.         ...,  15.49098015   4.97759771\n",
       "     17.99672508]\n",
       "   [  0.           0.           0.         ...,  11.02180099   4.4955554\n",
       "     16.64757156]\n",
       "   ..., \n",
       "   [  0.           0.           0.         ...,   5.54063463   0.\n",
       "      5.64969635]\n",
       "   [  0.           0.           0.         ...,   0.           0.\n",
       "      0.51256388]\n",
       "   [  0.           0.           0.         ...,   0.           0.\n",
       "      7.40212059]]\n",
       "\n",
       "  [[  0.           0.           0.         ...,   0.           0.           0.        ]\n",
       "   [  0.           0.           0.         ...,   0.           0.           0.        ]\n",
       "   [  0.           0.           0.         ...,   0.           0.           0.        ]\n",
       "   ..., \n",
       "   [  0.           0.           0.         ...,   0.           0.           0.        ]\n",
       "   [  0.           0.           0.         ...,   0.           0.           0.        ]\n",
       "   [  0.           0.           0.         ...,   0.           0.           0.        ]]]\n",
       "\n",
       "\n",
       " [[[  0.           0.           0.         ...,   0.           0.           0.        ]\n",
       "   [  0.           0.           0.         ...,   5.8124876    9.88608742\n",
       "     10.35445213]\n",
       "   [  0.           0.           0.         ...,  15.59985352  19.68514061\n",
       "     19.01726913]\n",
       "   ..., \n",
       "   [  0.           0.           0.         ...,   0.           0.           0.        ]\n",
       "   [  0.           0.           0.         ...,   0.           0.           0.        ]\n",
       "   [  0.           0.           0.         ...,   0.           0.           0.        ]]\n",
       "\n",
       "  [[  0.           0.           0.         ...,   2.87222409   7.90214777\n",
       "      8.04368019]\n",
       "   [  0.           0.           0.         ...,   3.14182734   3.52027392\n",
       "      3.44175935]\n",
       "   [  0.           0.           0.         ...,   2.86514926   3.25957155\n",
       "      0.        ]\n",
       "   ..., \n",
       "   [  0.           0.           0.         ...,   0.           0.           0.        ]\n",
       "   [  0.           0.           0.         ...,   0.           0.           0.        ]\n",
       "   [  0.           0.           0.         ...,   4.50058365   0.           0.        ]]\n",
       "\n",
       "  [[  0.           0.           0.         ...,   0.           0.           0.        ]\n",
       "   [  0.           0.           0.         ...,   0.           0.           0.        ]\n",
       "   [  0.           0.           0.         ...,   0.           0.           0.        ]\n",
       "   ..., \n",
       "   [  0.           0.           0.         ...,   0.           0.           0.        ]\n",
       "   [  0.           0.           0.         ...,   0.           0.           0.        ]\n",
       "   [  0.           0.           0.         ...,   0.           0.           0.        ]]\n",
       "\n",
       "  ..., \n",
       "  [[  0.           0.           0.         ...,   0.           0.           0.        ]\n",
       "   [  0.           0.           0.         ...,   0.           0.\n",
       "      1.79128039]\n",
       "   [  0.           0.           0.         ...,   0.           0.\n",
       "      4.1900382 ]\n",
       "   ..., \n",
       "   [  0.           0.           0.         ...,   0.           0.           0.        ]\n",
       "   [  0.           0.           0.         ...,   0.           0.           0.        ]\n",
       "   [  0.           0.           0.         ...,   0.           0.           0.        ]]\n",
       "\n",
       "  [[  0.           0.           0.         ...,   0.           0.           0.        ]\n",
       "   [  0.           0.           0.         ...,   0.           0.           0.        ]\n",
       "   [  0.           0.           0.         ...,   0.           0.           0.        ]\n",
       "   ..., \n",
       "   [  0.           0.           0.         ...,  23.7510376   14.7260952\n",
       "     20.00005913]\n",
       "   [  0.           0.           0.         ...,   0.           0.           0.        ]\n",
       "   [  4.3281579    0.           0.         ...,   0.14029711   0.\n",
       "      5.97295094]]\n",
       "\n",
       "  [[  0.           0.           0.         ...,   0.           0.\n",
       "      5.52969837]\n",
       "   [  0.           0.           0.         ...,   0.           0.           0.        ]\n",
       "   [  0.           0.           0.         ...,   0.           0.\n",
       "      1.99276173]\n",
       "   ..., \n",
       "   [  0.           0.           0.         ...,   0.           0.           0.        ]\n",
       "   [  0.           0.           0.         ...,   0.           0.           0.        ]\n",
       "   [ 10.76078415   0.           0.         ...,   0.           0.           0.        ]]]\n",
       "\n",
       "\n",
       " [[[  0.           0.           0.         ...,   0.           0.           0.        ]\n",
       "   [  0.           0.           0.         ...,   0.           0.           0.        ]\n",
       "   [  0.           0.           0.         ...,   0.           0.           0.        ]\n",
       "   ..., \n",
       "   [  0.           0.          20.7401123  ...,   0.           0.           0.        ]\n",
       "   [  0.           0.           0.         ...,   0.           0.           0.        ]\n",
       "   [  0.           0.           0.         ...,   0.           0.           0.        ]]\n",
       "\n",
       "  [[  0.           0.           0.         ...,   0.           0.           0.        ]\n",
       "   [  5.34007263   0.           0.         ...,   0.           0.           0.        ]\n",
       "   [  0.           0.           0.         ...,   0.           0.           0.        ]\n",
       "   ..., \n",
       "   [  0.           0.           0.         ...,   0.           0.           0.        ]\n",
       "   [  0.           0.           0.         ...,   0.           0.           0.        ]\n",
       "   [  0.           0.           0.         ...,   0.           0.           0.        ]]\n",
       "\n",
       "  [[  0.           0.           0.         ...,   0.           0.           0.        ]\n",
       "   [  0.           0.           0.         ...,   0.           0.           0.        ]\n",
       "   [  0.           0.           0.         ...,   0.           0.           0.        ]\n",
       "   ..., \n",
       "   [  0.           0.           0.         ...,   0.           0.           0.        ]\n",
       "   [  0.           0.           0.         ...,   0.           0.           0.        ]\n",
       "   [  0.           0.           0.         ...,   0.           0.           0.        ]]\n",
       "\n",
       "  ..., \n",
       "  [[  0.           0.           0.         ...,   0.           0.           0.        ]\n",
       "   [  0.           0.           0.         ...,   0.           0.           0.        ]\n",
       "   [  0.           0.           0.         ...,   0.           0.           0.        ]\n",
       "   ..., \n",
       "   [  0.           0.           0.         ...,   0.           0.           0.        ]\n",
       "   [  0.           0.           0.         ...,   0.           0.           0.        ]\n",
       "   [  0.           0.           0.         ...,   0.           0.           0.        ]]\n",
       "\n",
       "  [[  0.           0.           0.         ...,  46.91313553  13.68557262\n",
       "     10.09657574]\n",
       "   [  0.           0.           0.         ...,  46.4981041    0.\n",
       "      4.30620003]\n",
       "   [  1.18152618   0.           0.         ...,  57.62325668   0.\n",
       "      0.864438  ]\n",
       "   ..., \n",
       "   [  9.40571976   3.05345035   0.         ...,   0.           0.           0.        ]\n",
       "   [  1.91834426   0.           0.         ...,   0.           0.           0.        ]\n",
       "   [  7.11133623  20.72843361  21.69227982 ...,   0.           0.           0.        ]]\n",
       "\n",
       "  [[ 29.91278076  22.14665031  46.6084404  ...,   0.           0.           0.        ]\n",
       "   [  0.56226778   0.           0.         ...,   0.           0.           0.        ]\n",
       "   [  0.           0.           0.         ...,   0.           0.           0.        ]\n",
       "   ..., \n",
       "   [  0.           0.           0.         ...,   0.           0.           0.        ]\n",
       "   [  0.           0.           0.         ...,   0.           0.           0.        ]\n",
       "   [  6.90772152   0.6729728    0.         ...,   0.           0.           0.        ]]]]"
      ]
     },
     "execution_count": 116,
     "metadata": {},
     "output_type": "execute_result"
    }
   ],
   "source": [
    "bcolz.carray(conv_out_unflattened_val, rootdir='data/val_unflattened')"
   ]
  },
  {
   "cell_type": "code",
   "execution_count": 117,
   "metadata": {},
   "outputs": [
    {
     "name": "stdout",
     "output_type": "stream",
     "text": [
      "sample\ttrain  train_unflattened  val  val_unflattened\n"
     ]
    }
   ],
   "source": [
    "! ls data"
   ]
  },
  {
   "cell_type": "code",
   "execution_count": null,
   "metadata": {},
   "outputs": [],
   "source": []
  }
 ],
 "metadata": {
  "kernelspec": {
   "display_name": "Python 2",
   "language": "python",
   "name": "python2"
  },
  "language_info": {
   "codemirror_mode": {
    "name": "ipython",
    "version": 2
   },
   "file_extension": ".py",
   "mimetype": "text/x-python",
   "name": "python",
   "nbconvert_exporter": "python",
   "pygments_lexer": "ipython2",
   "version": "2.7.13"
  }
 },
 "nbformat": 4,
 "nbformat_minor": 2
}
